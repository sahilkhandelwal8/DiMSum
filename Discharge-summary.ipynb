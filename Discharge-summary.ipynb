{
 "cells": [
  {
   "cell_type": "code",
   "execution_count": 1,
   "id": "c7bd96e8",
   "metadata": {},
   "outputs": [
    {
     "name": "stderr",
     "output_type": "stream",
     "text": [
      "E:\\Anaconda\\lib\\site-packages\\scipy\\__init__.py:146: UserWarning: A NumPy version >=1.16.5 and <1.23.0 is required for this version of SciPy (detected version 1.26.2\n",
      "  warnings.warn(f\"A NumPy version >={np_minversion} and <{np_maxversion}\"\n"
     ]
    }
   ],
   "source": [
    "from datasets import load_dataset\n",
    "\n",
    "dataset = load_dataset(\"ricardosantoss/ehrcomplete_icdfiltered\")"
   ]
  },
  {
   "cell_type": "code",
   "execution_count": 2,
   "id": "8096ae36",
   "metadata": {},
   "outputs": [
    {
     "data": {
      "text/plain": [
       "DatasetDict({\n",
       "    train: Dataset({\n",
       "        features: ['TEXT', 'ICD9_CODE'],\n",
       "        num_rows: 38701\n",
       "    })\n",
       "    test: Dataset({\n",
       "        features: ['TEXT', 'ICD9_CODE'],\n",
       "        num_rows: 5000\n",
       "    })\n",
       "    validation: Dataset({\n",
       "        features: ['TEXT', 'ICD9_CODE'],\n",
       "        num_rows: 5000\n",
       "    })\n",
       "})"
      ]
     },
     "execution_count": 2,
     "metadata": {},
     "output_type": "execute_result"
    }
   ],
   "source": [
    "dataset"
   ]
  },
  {
   "cell_type": "code",
   "execution_count": 3,
   "id": "c6a53ee7",
   "metadata": {},
   "outputs": [
    {
     "name": "stdout",
     "output_type": "stream",
     "text": [
      "The CSV file has been created at: output1.csv\n"
     ]
    }
   ],
   "source": [
    "import csv\n",
    "csv_file_path = 'output1.csv'\n",
    "with open(csv_file_path, 'w', newline='') as csv_file:\n",
    "    csv_writer = csv.DictWriter(csv_file, fieldnames=dataset['test'].column_names)\n",
    "\n",
    "    # Write the header\n",
    "    csv_writer.writeheader()\n",
    "\n",
    "    # Write the data\n",
    "    for row in dataset['train']:\n",
    "        csv_writer.writerow(row)\n",
    "\n",
    "print(f'The CSV file has been created at: {csv_file_path}')"
   ]
  },
  {
   "cell_type": "code",
   "execution_count": 1,
   "id": "272a9048",
   "metadata": {},
   "outputs": [],
   "source": [
    "import pandas as pd"
   ]
  },
  {
   "cell_type": "code",
   "execution_count": 2,
   "id": "9e81e171",
   "metadata": {},
   "outputs": [],
   "source": [
    "cs = pd.read_csv('output1.csv')"
   ]
  },
  {
   "cell_type": "code",
   "execution_count": 4,
   "id": "d69effcd",
   "metadata": {},
   "outputs": [
    {
     "data": {
      "text/html": [
       "<div>\n",
       "<style scoped>\n",
       "    .dataframe tbody tr th:only-of-type {\n",
       "        vertical-align: middle;\n",
       "    }\n",
       "\n",
       "    .dataframe tbody tr th {\n",
       "        vertical-align: top;\n",
       "    }\n",
       "\n",
       "    .dataframe thead th {\n",
       "        text-align: right;\n",
       "    }\n",
       "</style>\n",
       "<table border=\"1\" class=\"dataframe\">\n",
       "  <thead>\n",
       "    <tr style=\"text-align: right;\">\n",
       "      <th></th>\n",
       "      <th>TEXT</th>\n",
       "      <th>ICD9_CODE</th>\n",
       "    </tr>\n",
       "  </thead>\n",
       "  <tbody>\n",
       "    <tr>\n",
       "      <th>0</th>\n",
       "      <td>Admission Date:  [**2117-9-11**]              ...</td>\n",
       "      <td>['5849']</td>\n",
       "    </tr>\n",
       "    <tr>\n",
       "      <th>1</th>\n",
       "      <td>Admission Date:  [**2150-4-17**]              ...</td>\n",
       "      <td>['2851', '5715', '4019']</td>\n",
       "    </tr>\n",
       "    <tr>\n",
       "      <th>2</th>\n",
       "      <td>Admission Date:  [**2108-4-6**]       Discharg...</td>\n",
       "      <td>['486', '2761']</td>\n",
       "    </tr>\n",
       "    <tr>\n",
       "      <th>3</th>\n",
       "      <td>Admission Date:  [**2145-3-31**]              ...</td>\n",
       "      <td>['486', '4019']</td>\n",
       "    </tr>\n",
       "    <tr>\n",
       "      <th>4</th>\n",
       "      <td>Admission Date:  [**2162-5-16**]              ...</td>\n",
       "      <td>['4111', '2859', '4019', '2720']</td>\n",
       "    </tr>\n",
       "  </tbody>\n",
       "</table>\n",
       "</div>"
      ],
      "text/plain": [
       "                                                TEXT  \\\n",
       "0  Admission Date:  [**2117-9-11**]              ...   \n",
       "1  Admission Date:  [**2150-4-17**]              ...   \n",
       "2  Admission Date:  [**2108-4-6**]       Discharg...   \n",
       "3  Admission Date:  [**2145-3-31**]              ...   \n",
       "4  Admission Date:  [**2162-5-16**]              ...   \n",
       "\n",
       "                          ICD9_CODE  \n",
       "0                          ['5849']  \n",
       "1          ['2851', '5715', '4019']  \n",
       "2                   ['486', '2761']  \n",
       "3                   ['486', '4019']  \n",
       "4  ['4111', '2859', '4019', '2720']  "
      ]
     },
     "execution_count": 4,
     "metadata": {},
     "output_type": "execute_result"
    }
   ],
   "source": [
    "cs.head()"
   ]
  },
  {
   "cell_type": "code",
   "execution_count": 7,
   "id": "400cac82",
   "metadata": {},
   "outputs": [
    {
     "data": {
      "application/vnd.jupyter.widget-view+json": {
       "model_id": "b773c04ee04244f897407e17331b6e6f",
       "version_major": 2,
       "version_minor": 0
      },
      "text/plain": [
       "Downloading config.json:   0%|          | 0.00/1.50k [00:00<?, ?B/s]"
      ]
     },
     "metadata": {},
     "output_type": "display_data"
    },
    {
     "name": "stderr",
     "output_type": "stream",
     "text": [
      "C:\\Users\\ishan\\AppData\\Roaming\\Python\\Python39\\site-packages\\huggingface_hub\\file_download.py:133: UserWarning: `huggingface_hub` cache-system uses symlinks by default to efficiently store duplicated files but your machine does not support them in C:\\Users\\ishan\\.cache\\huggingface\\hub. Caching files will still work but in a degraded version that might require more space on your disk. This warning can be disabled by setting the `HF_HUB_DISABLE_SYMLINKS_WARNING` environment variable. For more details, see https://huggingface.co/docs/huggingface_hub/how-to-cache#limitations.\n",
      "To support symlinks on Windows, you either need to activate Developer Mode or to run Python as an administrator. In order to see activate developer mode, see this article: https://docs.microsoft.com/en-us/windows/apps/get-started/enable-your-device-for-development\n",
      "  warnings.warn(message)\n"
     ]
    },
    {
     "data": {
      "application/vnd.jupyter.widget-view+json": {
       "model_id": "5e1c26bc774441579148da9c845df1a1",
       "version_major": 2,
       "version_minor": 0
      },
      "text/plain": [
       "Downloading model.safetensors:   0%|          | 0.00/242M [00:00<?, ?B/s]"
      ]
     },
     "metadata": {},
     "output_type": "display_data"
    },
    {
     "data": {
      "application/vnd.jupyter.widget-view+json": {
       "model_id": "884b514bbf634cefa59f871fcc8a14b7",
       "version_major": 2,
       "version_minor": 0
      },
      "text/plain": [
       "Downloading generation_config.json:   0%|          | 0.00/112 [00:00<?, ?B/s]"
      ]
     },
     "metadata": {},
     "output_type": "display_data"
    },
    {
     "data": {
      "application/vnd.jupyter.widget-view+json": {
       "model_id": "46f8317586054d688537e46d3bebaf21",
       "version_major": 2,
       "version_minor": 0
      },
      "text/plain": [
       "Downloading tokenizer_config.json:   0%|          | 0.00/2.37k [00:00<?, ?B/s]"
      ]
     },
     "metadata": {},
     "output_type": "display_data"
    },
    {
     "data": {
      "application/vnd.jupyter.widget-view+json": {
       "model_id": "d4411eeb7f0b4e0ea808d4878ffaeb5a",
       "version_major": 2,
       "version_minor": 0
      },
      "text/plain": [
       "Downloading spiece.model:   0%|          | 0.00/792k [00:00<?, ?B/s]"
      ]
     },
     "metadata": {},
     "output_type": "display_data"
    },
    {
     "data": {
      "application/vnd.jupyter.widget-view+json": {
       "model_id": "b6f9628ed8134c17b296383f0958cae0",
       "version_major": 2,
       "version_minor": 0
      },
      "text/plain": [
       "Downloading tokenizer.json:   0%|          | 0.00/2.42M [00:00<?, ?B/s]"
      ]
     },
     "metadata": {},
     "output_type": "display_data"
    },
    {
     "data": {
      "application/vnd.jupyter.widget-view+json": {
       "model_id": "675e33c54f3e4f88a7f2b0d1408c6f47",
       "version_major": 2,
       "version_minor": 0
      },
      "text/plain": [
       "Downloading (…)cial_tokens_map.json:   0%|          | 0.00/2.20k [00:00<?, ?B/s]"
      ]
     },
     "metadata": {},
     "output_type": "display_data"
    }
   ],
   "source": [
    "# Use a pipeline as a high-level helper\n",
    "from transformers import pipeline\n",
    "\n",
    "pipe = pipeline(\"summarization\", model=\"Falconsai/medical_summarization\")"
   ]
  },
  {
   "cell_type": "code",
   "execution_count": 4,
   "id": "ba6356fa",
   "metadata": {},
   "outputs": [
    {
     "ename": "NameError",
     "evalue": "name 'hpi_array' is not defined",
     "output_type": "error",
     "traceback": [
      "\u001b[1;31m---------------------------------------------------------------------------\u001b[0m",
      "\u001b[1;31mNameError\u001b[0m                                 Traceback (most recent call last)",
      "Input \u001b[1;32mIn [4]\u001b[0m, in \u001b[0;36m<cell line: 1>\u001b[1;34m()\u001b[0m\n\u001b[1;32m----> 1\u001b[0m test \u001b[38;5;241m=\u001b[39m \u001b[43mhpi_array\u001b[49m[\u001b[38;5;241m0\u001b[39m]\n",
      "\u001b[1;31mNameError\u001b[0m: name 'hpi_array' is not defined"
     ]
    }
   ],
   "source": [
    "test = hpi_array[0]\n"
   ]
  },
  {
   "cell_type": "code",
   "execution_count": 14,
   "id": "dc7091de",
   "metadata": {},
   "outputs": [
    {
     "data": {
      "text/plain": [
       "'[**2117-9-11**]              Discharge Date:   [**2117-9-17**]\\n\\nDate of Birth:  [**2082-3-21**]             Sex:   F\\n\\nService: MEDICINE\\n\\nAllergies:\\nLevaquin\\n\\nAttending:[**First Name3 (LF) 2195**]\\nChief Complaint:\\nnausea, vomiting\\n\\n\\nMajor Surgical or Invasive Procedure:\\nnone\\n\\nHistory of Present Illness:\\n35F w/ poorly controlled Type 1 diabetes mellitus w/ neuropathy,\\nnephropathy, HTN, gastroparesis, CKD and retinopathy, recently\\nhospitalized for orthostatic hypotension [**2-3**] autonomic\\nneuropathy [**Date range (1) 25088**]; DKA hospitalizations in [**6-12**] and [**7-12**], now\\nreturning w/ 5d history of worsening nausea, vomiting with\\ncoffee-ground emesis, chills, and dyspnea on exertion.  Last\\nweek she had a fall and hit her right face.  she also had 1 day\\nof diarrhea, which resolved early last week.  Found to be in DKA\\nwith AG 30 and bicarb 11.\\n.\\nIn the ED inital vitals were 09:00 0 98.2 113 181/99 22 100% RA.\\nK 4.7, HCO3 11, Anion Gap 30, Cr. 2.7 (baseline 1.6-2.0) She is\\non her 3rd L NS. Insulin srip at 5 units/hr. On home at 22\\nlevemir in am and 12 at with difficult to control sugars. BPs\\nhave been high. Given 30 mtroprolol tartrate in ED.\\n\\nShe was started on an insulin drip at 5 units/hr and 3L NS\\nboluses. Also aspirin 325mg PO and Morphine 4mg IVx1 for pain.\\nCXr was clear.  EKG NAD.\\n.\\nReview of systems: otherwise negative.\\n\\nPast Medical History:\\nType 1 diabetes mellitis w/ neuropathy, nephropathy, and\\nretinopathy - 2 episodes of DKA in [**6-12**] and [**7-12**]\\nHTN - 5 years\\ngastroparesis - 1.5 years\\nCKD - stage III, baseline Cr 2.4-2.5, proteinuria\\nL1 vertebral fracture - [**2117-7-17**]\\nSystolic ejection murmur\\n\\nSocial History:\\nPatient lives at home in [**Location (un) **] with her 8 y/o daughter and\\nboyfriend. She has no history of EtOH, tobacco, or illicit drug\\nuse. She is currently unemployed and seeking disability.\\n\\n\\nFamily History:\\nBoth parents have HTN and T2DM. Grandfather had an MI in his\\n40s.'"
      ]
     },
     "execution_count": 14,
     "metadata": {},
     "output_type": "execute_result"
    }
   ],
   "source": [
    "hpi_array[0]"
   ]
  },
  {
   "cell_type": "code",
   "execution_count": 5,
   "id": "68bccbbe",
   "metadata": {},
   "outputs": [
    {
     "ename": "NameError",
     "evalue": "name 'test' is not defined",
     "output_type": "error",
     "traceback": [
      "\u001b[1;31m---------------------------------------------------------------------------\u001b[0m",
      "\u001b[1;31mNameError\u001b[0m                                 Traceback (most recent call last)",
      "Input \u001b[1;32mIn [5]\u001b[0m, in \u001b[0;36m<cell line: 4>\u001b[1;34m()\u001b[0m\n\u001b[0;32m      1\u001b[0m \u001b[38;5;28;01mimport\u001b[39;00m \u001b[38;5;21;01mre\u001b[39;00m\n\u001b[0;32m      3\u001b[0m \u001b[38;5;66;03m# The patient information text\u001b[39;00m\n\u001b[1;32m----> 4\u001b[0m patient_information \u001b[38;5;241m=\u001b[39m \u001b[43mtest\u001b[49m\n\u001b[0;32m      6\u001b[0m \u001b[38;5;66;03m# Define regular expressions to capture each block\u001b[39;00m\n\u001b[0;32m      7\u001b[0m hpi_pattern \u001b[38;5;241m=\u001b[39m re\u001b[38;5;241m.\u001b[39mcompile(\u001b[38;5;124mr\u001b[39m\u001b[38;5;124m'\u001b[39m\u001b[38;5;124mAdmission Date:(.*?)(?:Physical Exam:|$)\u001b[39m\u001b[38;5;124m'\u001b[39m, re\u001b[38;5;241m.\u001b[39mDOTALL)\n",
      "\u001b[1;31mNameError\u001b[0m: name 'test' is not defined"
     ]
    }
   ],
   "source": [
    "import re\n",
    "\n",
    "# The patient information text\n",
    "patient_information = test\n",
    "\n",
    "# Define regular expressions to capture each block\n",
    "hpi_pattern = re.compile(r'Admission Date:(.*?)(?:Physical Exam:|$)', re.DOTALL)\n",
    "physical_exam_pattern = re.compile(r'Physical Exam:(.*?)(?:Followup Instructions:|$)', re.DOTALL)\n",
    "followup_pattern = re.compile(r'Followup Instructions:(.*)', re.DOTALL)\n",
    "\n",
    "# Search for each block\n",
    "hpi_match = hpi_pattern.search(patient_information)\n",
    "physical_exam_match = physical_exam_pattern.search(patient_information)\n",
    "followup_match = followup_pattern.search(patient_information)\n",
    "\n",
    "# Extract content from each match\n",
    "hpi = hpi_match.group(1).strip() if hpi_match else None\n",
    "Narrative = physical_exam_match.group(1).strip() if physical_exam_match else None\n",
    "followup = followup_match.group(1).strip() if followup_match else None\n",
    "\n"
   ]
  },
  {
   "cell_type": "code",
   "execution_count": 10,
   "id": "a7d5669c",
   "metadata": {},
   "outputs": [],
   "source": [
    "t_hpi = \"\"\"\n",
    "35F w/ poorly controlled Type 1 diabetes mellitus w/ neuropathy,\n",
    "nephropathy, HTN, gastroparesis, CKD and retinopathy, recently\n",
    "hospitalized for orthostatic hypotension [**2-3**] autonomic\n",
    "neuropathy [**Date range (1) 25088**]; DKA hospitalizations in [**6-12**] and [**7-12**], now\n",
    "returning w/ 5d history of worsening nausea, vomiting with\n",
    "coffee-ground emesis, chills, and dyspnea on exertion.  Last\n",
    "week she had a fall and hit her right face.  she also had 1 day\n",
    "of diarrhea, which resolved early last week.  Found to be in DKA\n",
    "with AG 30 and bicarb 11.\n",
    "\"\"\"\n",
    "\n"
   ]
  },
  {
   "cell_type": "code",
   "execution_count": 3,
   "id": "5f2ce2ac",
   "metadata": {},
   "outputs": [
    {
     "name": "stderr",
     "output_type": "stream",
     "text": [
      "E:\\Anaconda\\lib\\site-packages\\scipy\\__init__.py:146: UserWarning: A NumPy version >=1.16.5 and <1.23.0 is required for this version of SciPy (detected version 1.26.2\n",
      "  warnings.warn(f\"A NumPy version >={np_minversion} and <{np_maxversion}\"\n"
     ]
    }
   ],
   "source": [
    "from transformers import pipeline\n",
    "\n",
    "summarizer = pipeline(\"summarization\", model=\"facebook/bart-large-cnn\")\n"
   ]
  },
  {
   "cell_type": "code",
   "execution_count": 12,
   "id": "b0a86a39",
   "metadata": {},
   "outputs": [
    {
     "name": "stdout",
     "output_type": "stream",
     "text": [
      "[{'summary_text': 'The patient has Type 1 diabetes mellitus w/ neuropathy, gastroparesis, CKD and retinopathy. She was recently hospitalized for orthostatic hypotension [**2-3**]'}]\n"
     ]
    }
   ],
   "source": [
    "print(summarizer(t_hpi, max_length=130, min_length=30, do_sample=False))"
   ]
  },
  {
   "cell_type": "code",
   "execution_count": 13,
   "id": "80037ecf",
   "metadata": {},
   "outputs": [
    {
     "name": "stdout",
     "output_type": "stream",
     "text": [
      "[{'summary_text': 'Patient is F, unemployed, with no history of tobacco, alcohol, or illicit drug use. Diagnosed with Type 1 diabetes mellitus w/ neuropathy, HTN, gastroparesis, CKD and retinopathy.'}]\n"
     ]
    }
   ],
   "source": [
    "print(summarizer(hpi, max_length=130, min_length=40, do_sample=False))"
   ]
  },
  {
   "cell_type": "code",
   "execution_count": 7,
   "id": "8a86ae9b",
   "metadata": {},
   "outputs": [],
   "source": [
    "import re\n",
    "hpi_array = [None] * 10\n",
    "for i in range(10):\n",
    "    patient_information = cs['TEXT'][i]\n",
    "    hpi_pattern = re.compile(r'Admission Date:(.*?)(?:Physical Exam:|$)', re.DOTALL)\n",
    "    hpi_match = hpi_pattern.search(patient_information)\n",
    "    hpi_f = hpi_match.group(1).strip() if hpi_match else None\n",
    "    hpi_array[i] = hpi_f\n",
    "    "
   ]
  },
  {
   "cell_type": "code",
   "execution_count": 16,
   "id": "6cb8afd4",
   "metadata": {},
   "outputs": [
    {
     "name": "stdout",
     "output_type": "stream",
     "text": [
      "[{'summary_text': 'Patient is F, unemployed, with no history of tobacco, alcohol, or illicit drug use. Diagnosed with Type 1 diabetes mellitus w/ neuropathy, HTN, gastroparesis, CKD and retinopathy.'}]\n",
      "\n",
      "\n",
      "[{'summary_text': 'The patient is a 59M w HepC cirrhosis c/b grade I/II esophagealvarices and portal gastropathy. He is drinking alcohol, usually one session per week. He smokes about 20 cigarettes per day. He has been told to completely abstain from alcohol.'}]\n",
      "\n",
      "\n",
      "A 48-year-old African-American female with multiple myelomas was admitted to hospital for respiratory distress. She was given nebulizer, antibiotics and steroids. The patient had noted some wheezing but then took her Albuterol inhaler without any effect.The patient is somnolent butoriented x 3. No focal defects are noted. Abdomen is soft, nontender, nondistended with normalactive bowel sounds. Extremities, no edema, cyanosis orclubbing noted.\n",
      "\n",
      "\n",
      "[{'summary_text': 'Ms [**Known lastname **] is a 73 year old female with a history of multipleabdominal surgeries, pancreatitis and previous SBO. She complains of distention, inability to have a bowelmovement, no fever, chills ordiarrhea.'}]\n",
      "\n",
      "\n",
      "[{'summary_text': '60-year-old man with known coronary disease (AMI in [**2143**] and [**Last Name (Prefixes) **]LCx [2155**). Doing well until last week when he developed angina with exertion then progressed to rest angina. Each episode was releived with SL NTG, no episode lasting more than 5minutes. He was transferred to [**Hospital1 18**] for coronary bypassgrafting.'}]\n",
      "\n",
      "\n",
      "[{'summary_text': 'Helmeted motocyclist who hit a tree with a GCS of 6 on the scene. He receivedantibiotics and was intubated prior to transfer. He was transported to OSH and noted to have a right sided open femur fracture.'}]\n",
      "\n",
      "\n",
      "[{'summary_text': '67 year old man with known coronary artery disease-s/p stents x6(2004x5 and [**11-21**) developed exertional angina while walking. Had cardiac catheterization which showed: tapering distal LM,70% osteal LAD,90% mid RCA. LVEF 60% by LVgram.'}]\n",
      "\n",
      "\n",
      "A 55-year-old man was transferred from s/p intubation at [**Hospital1 **] in [**Location (un) 1110**] today. He had developed MRSA pneumonia and a tracheostomy which was reversed. He was placed on 4L NS and received at least 2.5L.The patient is non-verbal but makes some signs. He only eats icecream and tea by mouth and is otherwise fed through tube feeds. The patient is accompanied by his sister who was able to corroborate the above story.\n",
      "\n",
      "\n",
      "The patient has diabetes mellitus type 2, hypertension, stage 3 diabetic nephropathy, intradural tumor compressing his spinal cord at C1/C2. The patient was post-operatively managed in the ICU with a small subdural hematoma with no new neurologic symptom.The patient is stage 3 diabetic nephropathy. He has been bedbound for several years. The patient is married and has two adult sons who do not live at home. His younger son has recently threatened suicide and homicide.\n",
      "\n",
      "\n",
      "[{'summary_text': 'The patient was a healthy, 27-year-old male. He had a bicuspid aortic valve and had a 3/6 systolic ejection murmur. There were no intraoperative complications.'}]\n",
      "\n",
      "\n"
     ]
    }
   ],
   "source": [
    "f_hpi = [None] * 10\n",
    "for i in range(10):\n",
    "    if(len(hpi_array[i]) > 3500):\n",
    "        l = len(hpi_array[i]) // 2\n",
    "        h = hpi_array[i]\n",
    "        p1 = h[0:l]\n",
    "        p2 = h[l:]\n",
    "        s1 = summarizer(p1, max_length=80, min_length=40, do_sample=False)\n",
    "        s2  = summarizer(p2,max_length=80,min_length=40,do_sample=False)\n",
    "        a = s1[0]['summary_text']+s2[0]['summary_text']\n",
    "        print(a)\n",
    "        print('\\n')\n",
    "    else:\n",
    "        a = summarizer(hpi_array[i], max_length=130, min_length=40, do_sample=False)\n",
    "        print(a)\n",
    "        print('\\n')\n",
    "    f_hpi[i] = a"
   ]
  },
  {
   "cell_type": "code",
   "execution_count": 17,
   "id": "6b022840",
   "metadata": {},
   "outputs": [
    {
     "data": {
      "text/plain": [
       "'The patient has diabetes mellitus type 2, hypertension, stage 3 diabetic nephropathy, intradural tumor compressing his spinal cord at C1/C2. The patient was post-operatively managed in the ICU with a small subdural hematoma with no new neurologic symptom.'"
      ]
     },
     "execution_count": 17,
     "metadata": {},
     "output_type": "execute_result"
    }
   ],
   "source": [
    "s1[0]['summary_text']"
   ]
  },
  {
   "cell_type": "code",
   "execution_count": 18,
   "id": "2943073b",
   "metadata": {},
   "outputs": [
    {
     "data": {
      "text/plain": [
       "'[**2150-4-17**]              Discharge Date:   [**2150-4-21**]\\n\\nDate of Birth:  [**2090-5-19**]             Sex:   M\\n\\nService: MEDICINE\\n\\nAllergies:\\nPatient recorded as having No Known Allergies to Drugs\\n\\nAttending:[**First Name3 (LF) 12174**]\\nChief Complaint:\\ncoffee ground emesis\\n\\nMajor Surgical or Invasive Procedure:\\nEGD\\nRight IJ CVL\\n\\n\\nHistory of Present Illness:\\nMr. [**Known lastname 52368**] is a 59M w HepC cirrhosis c/b grade I/II esophageal\\nvarices and portal gastropathy (last EGD [**3-/2150**]), who p/w\\ncoffee-ground emesis and melena x2 days.\\n.\\nPt was in his USOH until about 2-3 days PTA, when he began\\nexperiencing intermittent nausea. He had 2-3 episodes of\\ncoffee-ground emesis and 1 episode of tarry black stool in the\\nmorning of admission. He reports some lightheadedness which is\\nnot new, but denies frank hematemesis, BRBPR, abdominal pain,\\nfever, chills, significant increases in his abdominal girth. He\\ndenies drinking or medication non-compliance. He also reports\\ntaking naproxen for back pain 2-3 times a day in the recent\\npast.\\n.\\nIn the ED, his vitals were 97.4, 93/41, 69, 18, 100% on RA. He\\nwas given 4L NS IV, protonix 40mg IV, started on an octreotide\\ndrip. He had guaiac positive brown stool on rectal exam. He was\\nseen by the liver fellow in the ED who felt this was unlikely a\\nvariceal bleed and recommended work up for infection. An NG tube\\nwas attempted, however, patient was unable to tolerate it in the\\nED. Abdominal ultrasound was done which showed a patent portal\\nvein, scant ascites but not enough to tap. BP dropped to 80/34,\\npt transferred to MICU for hemodynamic monitoring.\\n.\\nIn the MICU, pt was given 3 pRBC, Hct bumped from 21.3 to 28.\\nStarted on norepinephrine gtt for a few hours, but BP\\nstabilized. On transfer to the floor, remains hemodynamically\\nstable. Feels good, denies tarry or bloody BMs, emesis.\\n\\nPast Medical History:\\nHCV Cirrhosis (tx with interferon x2 with no response)\\nPortal Gastropathy\\nGrade II Esophageal varices\\nHTN\\n\\nSocial History:\\nHe lives alone.  He is drinking alcohol, usually one session per\\nweek. He has four to five drinks per session. He was told to\\ncompletely abstain from alcohol, effective as of today. He\\nsmokes about 20 cigarettes per day.\\n\\n\\nFamily History:\\nNC'"
      ]
     },
     "execution_count": 18,
     "metadata": {},
     "output_type": "execute_result"
    }
   ],
   "source": [
    "hpi_array[1]"
   ]
  },
  {
   "cell_type": "code",
   "execution_count": 19,
   "id": "d0b5690f",
   "metadata": {},
   "outputs": [
    {
     "data": {
      "text/plain": [
       "\"GEN: Awake, alert, and oriented\\nHEENT: PERRLA. MMM. no JVD. neck supple. No cervical LAD\\nCards: RRR, S1/S2 normal. II/VI systolic ejection murmur heard\\nbest at the L upper sternal border.\\nPulm: CTABL with no crackles or wheezes.\\nAbd: BS+, soft, NT, no rebound/guarding, no HSM, no [**Doctor Last Name 515**]\\nsign\\nExtremities: wwp, no edema. radials, DPs, PTs 2+.\\nSkin: no rashes or bruising. no skin tenting.\\nNeuro: CNs II-XII intact. Upper extremities: Power [**5-6**]\\nbilaterally. Le: left power: 4.5/5  right: power [**3-6**].  Bilateral\\nsymmetric, reduced sensation distal LE to ankles.\\n\\n\\nPertinent Results:\\nAdmission Labs: [**2117-9-11**] 09:22AM\\nWBC-11.9* RBC-4.58 HGB-13.0 HCT-36.5 MCV-80* PLT COUNT-466*\\nLIPASE-22  ALT(SGPT)-10 AST(SGOT)-16 ALK PHOS-105 TOT BILI-0.5\\nGLUCOSE-260* UREA N-48* CREAT-2.7* SODIUM-137 POTASSIUM-4.9\\nCL-101 CO2-11*\\nLACTATE-1.9\\n\\nDischarge Labs: [**2117-9-16**] 07:10AM\\nWBC-6.8 RBC-3.67* Hgb-10.4* Hct-30.2* MCV-82 Plt Ct-298\\nGlucose-118* UreaN-20 Creat-2.3* Na-137 K-3.7 Cl-104 HCO3-23\\nAnGap-14\\nCalcium-8.7 Phos-3.5 Mg-2.0\\n\\nRadiology:\\nCXR: No evidence of pneumonia or other pathological\\nabnormalities. No\\npleural effusions. No pulmonary edema. Normal size of the\\ncardiac\\nsilhouette.\\n\\nMicrobiology: Urine culture negative, blood cultures no growth\\nto date, stool for C.difficile negative\\n\\n\\nBrief Hospital Course:\\n35 yo F with HTN & poorly controlled type I DM, c/b neuropathy,\\ngastroparesis, nephropathy ?????? CKD, retinopathy presents with DKA\\nand hypertension SBP to 200s.\\n.\\n# Diabetic ketoacidosis: Patient controls diabetes at home with\\nHumalog SS and long acting Levemir.  Sugars at home recently\\nhave been in 250s. In the ED, glucose was 466. UA was +ve for\\nketones ?????? corrected to 200s, but rose again to 300s. She was\\ntreated with an insulin drip which was transitioned to subq when\\nshe tolerated POs. Her electrolytes were repleted and she\\nreceived aggressive volume resuscitation. [**Last Name (un) **] saw her and\\ngave sliding scale recommendations which were implemented. No\\nsource for DKA found, beleived to be [**2-3**] gastroparesis. Nausea\\nmanaged with ativan, compazine, and promethazine. She was\\ndischarged on her home Insulin and sliding scale with\\ninstructions to follow-up with [**Last Name (un) **].\\n\\n# HTN: Hypertensive with SBP in 190s initially, attributed to\\nDKA, as she has experienced in the past. As she improved her\\nblood pressures normalized and she was re-started on her home\\nLopressor and Midodrine regimen.\\n\\n# Coffee grounds emesis: Emesis started off as clear, then with\\nprolonged wretching, she started having coffee-grounds vomiting.\\nThis had also occurred on prior admissions for DKA with\\nassociated vomiting. Her hematocrit remained stable and her\\nhematemesis self-resolved, and so work-up was deferred to the\\noutpatient setting.\\n\\n# Acute on chronic kidney disease, Stage III: Patient's Cr on\\nadmission was 2.7, trending down to 2.1-2.3 following fluids,\\nconsistent with her known CKD secondary to diabetic nephropathy.\\n\\n\\nMedications on Admission:\\n1. citalopram 20 mg Tablet Sig: One (1) Tablet PO DAILY (Daily).\\n\\n2. Levemir 100 unit/mL Solution Sig: Twenty Two (22) units\\nSubcutaneous every AM.\\n3. Levemir 100 unit/mL Solution Sig: Twelve (12) units\\nSubcutaneous at bedtime.\\n4. Humalog 100 unit/mL Solution Sig: sliding scale as directed\\nSubcutaneous four times a day: Please use sliding scale as\\ndirected by MD [**First Name8 (NamePattern2) 767**] [**Last Name (Titles) **].\\n5. metoprolol tartrate 50 mg Tablet Sig: 1.5 Tablets PO DAILY\\n(Daily): take in the evening.\\n6. promethazine 25 mg Tablet Sig: 0.5 Tablet PO Q8H (every 8\\nhours) as needed for nausea.\\n7. gabapentin 300 mg Capsule Sig: One (1) Capsule PO Q12H (every\\n\\n12 hours).\\nDisp:*60 Capsule(s)* Refills:*2*\\n8. duloxetine 30 mg Capsule, Delayed Release(E.C.) Sig: Two (2)\\nCapsule, Delayed Release(E.C.) PO DAILY (Daily): Please take\\nonly 1 capsule daily (30 mg) for first 2 weeks of treatment.\\nDisp:*60 Capsule, Delayed Release(E.C.)(s)* Refills:*2*\\n9. oxycodone 5 mg Capsule Sig: One (1) Capsule PO every eight\\n(8) hours as needed for pain.\\n10. midodrine 5 mg Tablet Sig: 1.5 Tablets PO every four (4)\\nhours: Can hold while sleeping.\\nDisp:*270 Tablet(s)* Refills:*2*\\n\\n\\nDischarge Medications:\\n1. citalopram 20 mg Tablet Sig: One (1) Tablet PO DAILY (Daily).\\n\\n2. gabapentin 300 mg Capsule Sig: One (1) Capsule PO Q12H (every\\n12 hours).\\n3. duloxetine 30 mg Capsule, Delayed Release(E.C.) Sig: One (1)\\nCapsule, Delayed Release(E.C.) PO DAILY (Daily).\\n4. metoprolol tartrate 25 mg Tablet Sig: Three (3) Tablet PO\\nOnce Daily at 6 PM.\\n5. midodrine 2.5 mg Tablet Sig: Three (3) Tablet PO DAILY\\n(Daily).\\n6. Levemir 100 unit/mL Solution Sig: As directed by [**Last Name (un) **] units\\nSubcutaneous As directed.\\n\\n\\nDischarge Disposition:\\nHome\\n\\nDischarge Diagnosis:\\nDiabetic keotacidosis\\nHematemesis (blood in your vomit)\\nHypertension\\nChronic renal insufficiency\\n\\nDischarge Condition:\\nMental Status: Clear and coherent.\\nLevel of Consciousness: Alert and interactive.\\nActivity Status: Ambulatory - Independent.\\n\\nDischarge Instructions:\\nYou were admitted to the hospital with DKA, hypertension, and\\nblood in your vomit. You were initially treated in the ICU with\\nan insulin drip, and your blood sugars improved. Your blood\\npressure medications were adjusted to better control your blood\\npressure while you were in DKA, but you were re-started on your\\nhome regimen at discharge. The blood in your vomit was likely\\nsecondary to mechanical trauma from repeated wretching, but you\\nshould follow-up with your primary care doctor to discuss\\nwhether you should undergo further evaluation such as an upper\\nendoscopy. Given your complaints of chronic cough and heartburn,\\nyou should also discuss beginning a trial of a proton pump\\ninhibitor such as Nexium or Prilosec to see if this helps your\\nsymptoms.\\n\\nYour insulin regimen was adjusted by the [**Last Name (un) **] team while you\\nwere here. You should continue to follow-up with them with any\\nquestions or concerns regarding your insulin management.\""
      ]
     },
     "execution_count": 19,
     "metadata": {},
     "output_type": "execute_result"
    }
   ],
   "source": [
    "Narrative"
   ]
  },
  {
   "cell_type": "code",
   "execution_count": null,
   "id": "09385fb6",
   "metadata": {},
   "outputs": [],
   "source": []
  },
  {
   "cell_type": "code",
   "execution_count": 20,
   "id": "67394bb2",
   "metadata": {},
   "outputs": [
    {
     "name": "stdout",
     "output_type": "stream",
     "text": [
      "Patient was admitted to hospital with DKA, type I DM, c/b neuropathy, nephropathy, retinopathy, and diabetes. She was discharged on her home Insulin and sliding scale with instructions to follow-up with [**Last Name (un) **]. Patient's Cradmission was 27, trending down to 2-2-2.You were admitted to the hospital with DKA, hypertension, and blood in your vomit. You were initially treated in the ICU with an insulin drip, and your blood sugars improved. Your bloodpressure medications were adjusted to better control your blood pressure while you were in DKA. You should follow-up with your primary care doctor to discuss further evaluation.\n"
     ]
    }
   ],
   "source": [
    "l = len(Narrative) // 2\n",
    "h = Narrative   \n",
    "p1 = h[0:l]\n",
    "p2 = h[l:]\n",
    "s1 = summarizer(p1, max_length=80, min_length=40, do_sample=False)\n",
    "s2  = summarizer(p2,max_length=80,min_length=40,do_sample=False)\n",
    "print(s1[0]['summary_text']+s2[0]['summary_text'])"
   ]
  },
  {
   "cell_type": "code",
   "execution_count": 21,
   "id": "c83880dd",
   "metadata": {},
   "outputs": [
    {
     "data": {
      "text/plain": [
       "\"Please call Dr.[**Last Name (STitle) 805**]' office to schedule a follow-up\\nappointment within 7-10 days of discharge. Her office number is\\n[**Telephone/Fax (1) 85219**].\\n\\nYou should also continue to follow-up with your [**Last Name (un) **] doctors\\nas needed.\""
      ]
     },
     "execution_count": 21,
     "metadata": {},
     "output_type": "execute_result"
    }
   ],
   "source": [
    "followup"
   ]
  },
  {
   "cell_type": "code",
   "execution_count": 5,
   "id": "2eeac4ef",
   "metadata": {},
   "outputs": [],
   "source": [
    "import re\n",
    "Narrative_array = [None] * 10\n",
    "for i in range(10):\n",
    "    patient_information = cs['TEXT'][i]\n",
    "    physical_exam_pattern = re.compile(r'Physical Exam:(.*?)(?:Followup Instructions:|$)', re.DOTALL)\n",
    "    physical_exam_match = physical_exam_pattern.search(patient_information)\n",
    "    Narrative = physical_exam_match.group(1).strip() if physical_exam_match else None\n",
    "    Narrative_array[i] = Narrative\n",
    "    "
   ]
  },
  {
   "cell_type": "code",
   "execution_count": null,
   "id": "cdaff1d2",
   "metadata": {},
   "outputs": [],
   "source": [
    "ind = 400\n",
    "for i in range(10):\n",
    "    if(i!=2):\n",
    "        try:\n",
    "            l = len(Narrative_array[i]) // 3\n",
    "            h = str(Narrative_array[i])\n",
    "            p1 = h[ind:l]\n",
    "            p2 = h[l:l+l]\n",
    "            p3 = h[l+l:]\n",
    "            print(len(p1),len(p2),len(p3))\n",
    "            s1 = summarizer(p1, max_length=70, min_length=20, do_sample=False)\n",
    "            s2  = summarizer(p2,max_length=70,min_length=20,do_sample=False)\n",
    "            s3  = summarizer(p3,max_length=70,min_length=20,do_sample=False)\n",
    "            #s4  = summarizer(p4,max_length=35,min_length=20,do_sample=False)\n",
    "            print(s1[0]['summary_text']+s2[0]['summary_text']+s3[0]['summary_text'])\n",
    "            print('\\n')\n",
    "        except:\n",
    "            ind = ind + 75\n",
    "            l = len(Narrative_array[i]) // 3\n",
    "            h = str(Narrative_array[i])\n",
    "            p1 = h[ind:l]\n",
    "            p2 = h[l:l+l]\n",
    "            p3 = h[l+l:]\n",
    "            print(len(p1),len(p2),len(p3))\n",
    "            s1 = summarizer(p1, max_length=70, min_length=20, do_sample=False)\n",
    "            s2  = summarizer(p2,max_length=70,min_length=20,do_sample=False)\n",
    "            s3  = summarizer(p3,max_length=70,min_length=20,do_sample=False)\n",
    "            #s4  = summarizer(p4,max_length=35,min_length=20,do_sample=False)\n",
    "            print(s1[0]['summary_text']+s2[0]['summary_text']+s3[0]['summary_text'])\n",
    "            print('\\n')\n",
    "        finally:\n",
    "            ind = ind + 75\n",
    "            l = len(Narrative_array[i]) // 3\n",
    "            h = str(Narrative_array[i])\n",
    "            p1 = h[ind:l]\n",
    "            p2 = h[l:l+l]\n",
    "            p3 = h[l+l:]\n",
    "            print(len(p1),len(p2),len(p3))\n",
    "            s1 = summarizer(p1, max_length=70, min_length=20, do_sample=False)\n",
    "            s2  = summarizer(p2,max_length=70,min_length=20,do_sample=False)\n",
    "            s3  = summarizer(p3,max_length=70,min_length=20,do_sample=False)\n",
    "            #s4  = summarizer(p4,max_length=35,min_length=20,do_sample=False)\n",
    "            print(s1[0]['summary_text']+s2[0]['summary_text']+s3[0]['summary_text'])\n",
    "            print('\\n')\n",
    "    elif(i == 2):\n",
    "        print(i)\n",
    "        print('\\n')"
   ]
  },
  {
   "cell_type": "code",
   "execution_count": null,
   "id": "1df57e81",
   "metadata": {},
   "outputs": [],
   "source": [
    "b = Narrative_array[5]\n",
    "s1 = summarizer(b[400:2500], max_length=70, min_length=20, do_sample=False)\n",
    "print(s1)"
   ]
  },
  {
   "cell_type": "code",
   "execution_count": 10,
   "id": "12e99f4f",
   "metadata": {},
   "outputs": [
    {
     "name": "stderr",
     "output_type": "stream",
     "text": [
      "Special tokens have been added in the vocabulary, make sure the associated word embeddings are fine-tuned or trained.\n"
     ]
    }
   ],
   "source": [
    "# Use a pipeline as a high-level helper\n",
    "from transformers import pipeline\n",
    "\n",
    "pipe = pipeline(\"text2text-generation\", model=\"Shxck69/DimSum\")"
   ]
  },
  {
   "cell_type": "code",
   "execution_count": 6,
   "id": "85bc6746",
   "metadata": {},
   "outputs": [],
   "source": [
    "def narrative(i,ind):\n",
    "    if(i!=2):\n",
    "        try:\n",
    "            l = len(Narrative_array[i]) // 3\n",
    "            h = str(Narrative_array[i])\n",
    "            p1 = h[ind:l]\n",
    "            p2 = h[l:l+l]\n",
    "            p3 = h[l+l:]\n",
    "            print(len(p1),len(p2),len(p3))\n",
    "            s1 = summarizer(p1, max_length=70, min_length=20, do_sample=False)\n",
    "            s2  = summarizer(p2,max_length=70,min_length=20,do_sample=False)\n",
    "            s3  = summarizer(p3,max_length=70,min_length=20,do_sample=False)\n",
    "            #s4  = summarizer(p4,max_length=35,min_length=20,do_sample=False)\n",
    "            return (s1[0]['summary_text']+s2[0]['summary_text']+s3[0]['summary_text'])\n",
    "        except:\n",
    "            narrative(i,ind+75)\n",
    "    else:\n",
    "        return \"Empty\""
   ]
  },
  {
   "cell_type": "code",
   "execution_count": 22,
   "id": "0ad4629b",
   "metadata": {},
   "outputs": [],
   "source": [
    "def narrative1(i,ind):\n",
    "    if(i!=2):\n",
    "        try:\n",
    "            l = len(Narrative_array[i]) // 3\n",
    "            h = str(Narrative_array[i])\n",
    "            p1 = h[ind:l]\n",
    "            p2 = h[l:l+l]\n",
    "            p3 = h[l+l:]\n",
    "            print(len(p1),len(p2),len(p3))\n",
    "            s1 = pipe(p1, max_length=70, min_length=20, do_sample=False)\n",
    "            s2  = pipe(p2,max_length=70,min_length=20,do_sample=False)\n",
    "            s3  = pipe(p3,max_length=70,min_length=20,do_sample=False)\n",
    "            #s4  = summarizer(p4,max_length=35,min_length=20,do_sample=False)\n",
    "            return (s1[0]['generated_text']+s2[0]['generated_text']+s3[0]['generated_text'])\n",
    "        except:\n",
    "            narrative(i,ind+75)\n",
    "    else:\n",
    "        return \"Empty\""
   ]
  },
  {
   "cell_type": "code",
   "execution_count": 17,
   "id": "25b9aa06",
   "metadata": {},
   "outputs": [
    {
     "name": "stdout",
     "output_type": "stream",
     "text": [
      "2017 2417 2418\n"
     ]
    }
   ],
   "source": [
    "l = len(Narrative_array[1]) // 3\n",
    "h = str(Narrative_array[1])\n",
    "p1 = h[400:l]\n",
    "p2 = h[l:l+l]\n",
    "p3 = h[l+l:]\n",
    "print(len(p1),len(p2),len(p3))\n",
    "s1 = pipe(p1, max_length=70, min_length=20, do_sample=False)\n",
    "s2  = pipe(p2,max_length=70,min_length=20,do_sample=False)\n",
    "s3  = pipe(p3,max_length=70,min_length=20,do_sample=False)"
   ]
  },
  {
   "cell_type": "code",
   "execution_count": 23,
   "id": "4dec1d51",
   "metadata": {},
   "outputs": [
    {
     "name": "stdout",
     "output_type": "stream",
     "text": [
      "1605 2005 2007\n",
      "Patient was admitted to the ED with hypoglyceremonious hypoglycaemic cardiomyopathy. She was treated with an insulin drip which was transitioned to subq when she tolerated POs. Her electrolytes were repleted and she received aggressive volume resuscitation. No evidence of pneumonia or other pathological abnormalities.Patient was admitted to the ICU with SBP in 190s and SBP of 190s. No source for DKA found, beleived to be gastroparesis. Nausea managed with ativan, compazine, and promethazine. She was discharged on her home Insulin and sliding scaleThe patient was admitted to the hospital with DKA, hypertension, and blood in his vomit. He was initially treated in the ICU with insulin drip, and his blood sugars improved. His blood pressure medications were adjusted to better control his blood pressure while he was in DKA. He has been re-started on his home regimen at\n",
      "2017 2417 2418\n",
      "The left atrium is dilated and dilated with dilated ventricular wall thicknesses. Left ventricular ventricular chamber and right ventricular chambers are normal. Left atrium ventricular cavity dilated but dilated. Left left ventricle dilated (1.1mm) and left left ventricular ejection fraction (Pt was admitted to MICU for hypotension and was transferred to the ICU for UGIB. He was admitted with HCV cirrhosis w grade II esophageal varices with emesis w coffee-ground emesis and melena concerning for UgIBIB. Pt did not have any morePatient was admitted to the ER with bleeding from an ulcer in the stomach. The patient was admitted for bleeding from a stomach ulcer caused by naproxen. The ulcer is at least partially caused by Naproxen and the patient should stop taking it and only take tylenol for pain. He was continued\n",
      "Empty\n",
      "1634 2034 2036\n",
      "The patient was admitted to the ICU with pneumonia. The patient was found to have a high grade small-bowel obstruction and a moderate amount of free free gas within the abdomen. She was also found to be with a moderate to high grade bowel gas pattern without evidence of obstructive bowel gas. She also had a moderateThe patient was admitted through the emergency room on [**2145-3-31**] and taken to the operating room. She underwent an uncomplicated laparatomy for small bowel resection, jejunosotomy and lysis of adhesions. She was extubated, her pain was well controlled with morphine PCMedications on admission: Ramipril 1.25 mg Capsule Sig: Two (2) Capsule PO DAILY (Daily). Trazodone 50 mg Tablet Sig: Three (3) Tablet PO HS (at bedtime) as needed. Oxycodone-Acetaminophen 5.5-325 mg Tablet\n",
      "2314 2714 2716\n",
      "Patient was admitted to the hospital and brought to the operating room where the patient underwent Coronarymonary bypass. The patient was A-paced and on a phenylephrine infusion. He was then transferred to the ICU where he was transferred to a PICU for further evaluation. He underwent a coronary artery bypass operation (CPatient was extubated, alert and oriented and breathing comfortably. Electrophysiology team consulted due to noncapturing atrial lead after permanent pacemaker was initiallyinterrogated and epicardial wires were removed. The patient was discharged home with VNA services in good condition with appropriate follow up instructions. He is to continueThe patient was diagnosed with Coronary Artery Disease (CADCAD) The patient was transferred to the Cardiomyopathy Unit at the U.S. Oncology office and the patient was started on Percocet for pain management. The patient will need to stay in the ICU for at least\n",
      "2248 2648 2649\n",
      "2173 2648 2649\n",
      "None\n"
     ]
    }
   ],
   "source": [
    "f_narrative = [None] * 6\n",
    "for i in range(6):\n",
    "    print(narrative1(i,400))"
   ]
  },
  {
   "cell_type": "code",
   "execution_count": 7,
   "id": "557b0267",
   "metadata": {},
   "outputs": [
    {
     "name": "stdout",
     "output_type": "stream",
     "text": [
      "1605 2005 2007\n",
      "The patient was admitted to the hospital with type I DM, c/b neuropathy, nephropathy, and retinopathy. She was treated with insulin drip which was transitioned to subq when she tolerated POs. Her electrolytes were repleted and she received aggressive volume resuscitation.The patient was admitted to the hospital with SBP in 190s. No source for DKA was found, beleived to be gastroparesis. Nausea managed with ativan, compazine, and promethazine.You were admitted to the hospital with DKA, hypertension, andblood in your vomit. You were initially treated in the ICU with an insulin drip, and your blood sugars improved. You should follow-up with your primary care doctor to discuss whether you should undergo further evaluation such as an upper-endoscopy.\n",
      "2017 2417 2418\n",
      "The left atrium is dilated. Left ventricular wall thicknessesand. ventricular cavity size are normal. The mitral valve leaflets are mildlythickened. Left atrium has dilated dilated atrium. Left systolic. chamber and right ventricular chamber have normal. function.The patient has a 59M w HCV cirrhosis w grade II esophageal varices. He was admitted to MICU for hypotension. He is now being treated with tylenol for pain.You were admitted for bleeding from an ulcer in your stomach. The ulcer is at least partially caused by naproxen. You should stop taking naproxens and take only tylenol for pain.\n",
      "Empty\n",
      "1634 2034 2036\n",
      "The patient has a high grade small-bowel obstruction. There is a moderate amount of free.fluid within the abdomen. Ill-defined opacity in the right middle lobe representing.infection or BAC and should be further evaluated with PET CT.The patient was admitted through the emergency room on [**2145-3-31**] and taken to the operating room. She underwent an uncomplicatedexploratory laparatomy for small bowel resection, jejunosotomy and lysis of adhesions. She was extubated, her pain was well controlledSmall bowel obstruction with necrotic jejunum. Pneumonia. Antibiotics, pain medication and all appropriate follow up appointments.\n",
      "2314 2714 2716\n"
     ]
    },
    {
     "name": "stderr",
     "output_type": "stream",
     "text": [
      "Token indices sequence length is longer than the specified maximum sequence length for this model (1034 > 1024). Running this sequence through the model will result in indexing errors\n"
     ]
    },
    {
     "name": "stdout",
     "output_type": "stream",
     "text": [
      "The patient was admitted to the hospital and brought to the operating room on [**2162-5-17**] where the patient underwent Coronaryproartery bypass graf. No spontaneous echo contrast is seen in the body of the left atrium or left atrial appendage. No atrial septal defect isPatient was extubated, alert and oriented and breathing comfortably. Electrophysiology team consulted due to noncapturing atrial lead after permanent pacemaker was initiallyinterrogated and epicardial wires were removed. Ventricular lead and ICD were functioning appropriately.Cephalexin 500 mg Capsule Sig: One (1) Capsule PO Q6H (every 4 hours) for 7 days. Lasix 40 mg Tablet Sig: one (1?) Tablet PO once a day for 7 weeks.\n",
      "2248 2648 2649\n",
      "2173 2648 2649\n",
      "None\n"
     ]
    }
   ],
   "source": [
    "f_narrative = [None] * 6\n",
    "for i in range(6):\n",
    "    print(narrative(i,400))"
   ]
  },
  {
   "cell_type": "code",
   "execution_count": 9,
   "id": "3dc6a099",
   "metadata": {},
   "outputs": [
    {
     "data": {
      "text/plain": [
       "'ON ADMISSION:\\nVS: T95.9 HR 71 BP 83/36 RR 11  96% 2L NC\\nGen: somnolent, oriented x 3, unable to assess for asterixis\\ngiven somnolence\\nHEENT: PERRLA, EOMI\\nNeck: supple, JVP at angle of jaw (fluid bolus running wide\\nopen)\\nCV: RRR s1 s2 no appreciable murmur\\nLungs: CTAB\\nAbd: distended, non tender, no rebound or guarding, bowel sounds\\npositive\\nExt: 1+ pitting edema bilaterally\\nSkin: warm, diaphoretic, no rash or lesions noted\\n\\nPertinent Results:\\nLABS ON ADMISSION:\\n[**2150-4-17**] 01:30PM BLOOD WBC-17.9*# RBC-2.78* Hgb-8.5* Hct-26.0*\\nMCV-94 MCH-30.6 MCHC-32.7 RDW-20.6* Plt Ct-186\\n[**2150-4-17**] 01:30PM BLOOD Neuts-61.2 Lymphs-28.8 Monos-6.9 Eos-2.2\\nBaso-0.9\\n[**2150-4-17**] 02:13PM BLOOD PT-17.7* PTT-34.5 INR(PT)-1.6*\\n[**2150-4-17**] 01:30PM BLOOD Glucose-92 UreaN-51* Creat-1.3* Na-131*\\nK-5.7* Cl-104 HCO3-21* AnGap-12\\n[**2150-4-17**] 01:30PM BLOOD ALT-126* AST-260* LD(LDH)-426*\\nAlkPhos-157* TotBili-3.3*\\n[**2150-4-17**] 06:41PM BLOOD Calcium-7.5* Phos-3.8 Mg-1.9\\n.\\nLABS ON DISCHARGE:\\n[**2150-4-21**] 05:00AM BLOOD WBC-10.7 RBC-2.94* Hgb-9.6* Hct-27.0*\\nMCV-92 MCH-32.6* MCHC-35.6* RDW-21.2* Plt Ct-110*\\n[**2150-4-21**] 05:00AM BLOOD PT-17.4* PTT-35.6* INR(PT)-1.6*\\n[**2150-4-21**] 05:00AM BLOOD Glucose-84 UreaN-15 Creat-1.0 Na-132*\\nK-4.4 Cl-99 HCO3-25 AnGap-12\\n[**2150-4-21**] 05:00AM BLOOD ALT-113* AST-210* AlkPhos-111\\nTotBili-3.6*\\n[**2150-4-21**] 05:00AM BLOOD Calcium-8.1* Phos-3.8 Mg-1.7\\n.\\nOTHER LABS:\\n[**2150-4-18**] 06:25AM BLOOD CK-MB-9 cTropnT-<0.01\\n[**2150-4-17**] 06:41PM BLOOD CK-MB-11* MB Indx-4.9 cTropnT-<0.01\\n[**2150-4-17**] 01:30PM BLOOD Lipase-85*\\n.\\nURINE:\\n[**2150-4-17**] 11:01PM URINE Color-Yellow Appear-Clear Sp [**Last Name (un) **]-1.016\\n[**2150-4-17**] 11:01PM URINE Blood-LG Nitrite-NEG Protein-NEG\\nGlucose-NEG Ketone-NEG Bilirub-NEG Urobiln-2* pH-5.5 Leuks-NEG\\n[**2150-4-17**] 11:01PM URINE RBC-63* WBC-7* Bacteri-NONE Yeast-NONE\\nEpi-<1\\n.\\nMICROBIOLOGY:\\nBlood, urine cultures - negative\\nH.pylori serum antibody - negative\\n.\\nCARDIOLOGY:\\n.\\nTTE ([**4-18**]):\\nConclusions\\nThe left atrium is dilated. Left ventricular wall thicknesses\\nand cavity size are normal. Left ventricular systolic function\\nis hyperdynamic (EF>75%). Right ventricular chamber size and\\nfree wall motion are normal. The aortic valve leaflets (3) are\\nmildly thickened but aortic stenosis is not present. No aortic\\nregurgitation is seen. The mitral valve leaflets are mildly\\nthickened. Mild (1+) mitral regurgitation is seen. There is\\nmoderate pulmonary artery systolic hypertension. There is no\\npericardial effusion.\\nIMPRESSION: Hyperdynamic LV systolic function. Mild mitral\\nregurgitation. Moderate pulmonary artery systolic hypertension.\\n\\n.\\nEKG ([**4-17**]):\\nSinus rhythm\\nProlonged QT interval is nonspecific but clinical correlation is\\nsuggested\\nNo previous tracing available for comparison\\n  Intervals Axes\\nRate PR QRS QT/QTc P QRS T\\n70 160 96 462/479 70 55 52\\n.\\nGI:\\nEGD ([**4-20**]):\\n1. Varices at the lower third of the esophagus and middle third\\nof the esophagus.\\n2. Erythema and erosion in the antrum and pylorus compatible\\nwith non-steroidal induced gastritis.\\n3. Bleeding from a pyloric ulcer in the pylorus compatible with\\nnon-steroidal induced ulcer (injection, thermal therapy).\\n4. Normal mucosa in the duodenum.\\n5. Otherwise normal EGD to third part of the duodenum\\n.\\nRADIOLOGY:\\n.\\nCXR ([**4-17**]):\\nThe prominent bulge to the right heart border could be due to\\npericardial\\neffusion, _____ cyst, and enlarged right atrium. There is no\\nmediastinal\\nvascular engorgement to suggest cardiac tamponade. Pulmonary\\nvasculature is normal. The lungs are clear and there is no\\npleural effusion. Overall heart size is normal. Right jugular\\nline ends at the junction of the\\nbrachiocephalic veins. No pneumothorax or pleural effusion.\\n.\\nABD U/S ([**4-17**]):\\nIMPRESSION:\\n1. No son[**Name (NI) 493**] evidence for portal venous thrombosis. Portal\\nvein flow is hepatopetal and wall-to-wall.\\n2. No significant ascites. A sliver of perihepatic ascites.\\n3. Persistent coarsened echotexture of the liver consistent with\\nknown\\nhistory of cirrhosis.\\n4. Splenomegaly\\n\\nBrief Hospital Course:\\nMr [**Known lastname 52368**] is a 59M w HCV cirrhosis w grade II esophageal varices\\nadmitted w coffee-ground emesis and melena concerning for UGIB,\\ns/p MICU stay for hypotension.\\n.\\n# UGIB: Pt did not have any more bleeds while in hospital. EGD\\nrevealed erythema and erosion in the antrum and pylorus\\ncompatible with non-steroidal induced gastritis. Pt did remember\\ntaking increased doses of naproxen for backache. Started on\\npantoprazole 40mg PO BID for one week with repeat endoscopy\\nscheduled in one week ([**4-30**]). Recommended to take tylenol (max\\ndaily dose of 2gm) for pain instead of NSAIDs. Blood pressure\\nmeds were held at first, given MICU admission for hypotension,\\nbut were restarted on discharge.\\n.\\n# HCV Cirrhosis: appears to be progressing to liver failure,\\nwith elevated INR at 1.6, decreased albumin at 2.6, tbili\\nslightly elevated at 3.6, and chronic LE edema. Pt was continued\\non prophylactic medications.\\n.\\n# FULL CODE\\n\\nMedications on Admission:\\nFUROSEMIDE 20mg daily\\nLISINOPRIL 10 mg daily\\nSPIRONOLACTONE 100 mg daily\\n\\nDischarge Medications:\\n1. Phenol 1.4 % Aerosol, Spray Sig: One (1) Spray Mucous\\nmembrane PRN (as needed).\\n2. Lactulose 10 gram/15 mL Syrup Sig: Thirty (30) ML PO TID (3\\ntimes a day).\\n3. Thiamine HCl 100 mg Tablet Sig: One (1) Tablet PO DAILY\\n(Daily).\\n4. Folic Acid 1 mg Tablet Sig: One (1) Tablet PO DAILY (Daily).\\n\\n5. Spironolactone 100 mg Tablet Sig: One (1) Tablet PO DAILY\\n(Daily).\\n6. Furosemide 40 mg Tablet Sig: One (1) Tablet PO once a day.\\n7. Acetaminophen 325 mg Tablet Sig: 1-2 Tablets PO every [**6-15**]\\nhours as needed: no more than 6 tablets of regular strength\\ntylenol per day.\\n8. Terbinafine 1 % Cream Sig: One (1) Appl Topical [**Hospital1 **] (2 times\\na day) for 1 weeks.\\nDisp:*qs * Refills:*0*\\n9. Nadolol 20 mg Tablet Sig: One (1) Tablet PO DAILY (Daily).\\n10. Pantoprazole 40 mg Tablet, Delayed Release (E.C.) Sig: One\\n(1) Tablet, Delayed Release (E.C.) PO twice a day for 1 weeks:\\nthen take 1 tablet daily.\\nDisp:*60 Tablet, Delayed Release (E.C.)(s)* Refills:*2*\\n11. Camphor-Menthol 0.5-0.5 % Lotion Sig: One (1) Appl Topical\\nQID (4 times a day) as needed for itching.\\nDisp:*qs * Refills:*0*\\n12. Lisinopril 10 mg Tablet Sig: One (1) Tablet PO once a day.\\n\\n\\nDischarge Disposition:\\nHome\\n\\nDischarge Diagnosis:\\nPeptic ulcer\\nGI bleed\\n\\nDischarge Condition:\\nasymptomatic\\n\\nDischarge Instructions:\\nYou were admitted for bleeding from an ulcer in your stomach.\\nThis ulcer is at least partially caused by naproxen.  You should\\nstop taking naproxen and take only tylenol for pain.  You should\\nnot take any NSAIDS for pain including ibuprofen, naproxen,\\naleve, motrin, aspirin, toradol, or advil. It is okay to take\\ntylenol but do not take more than 4 extra strength tylenol a day\\n(2gram daily maximum).\\n.\\nThe following medication changes were made:\\nDo not take naproxen\\nTake pantoprazole 40 mg twice daily for one week.  Then take 40\\nmg daily.\\n.\\nYou are scheduled to get a repeat endoscopy next week.  Prior to\\nthe procedure do not have anything to drink or eat after\\nmidnight.\\n.\\nPlease return to the ER if you have any chest pain,\\nlightheadeness, fever, chills, bloody or black stools or any\\nother concerning symptoms.'"
      ]
     },
     "execution_count": 9,
     "metadata": {},
     "output_type": "execute_result"
    }
   ],
   "source": [
    "Narrative_array[1]"
   ]
  },
  {
   "cell_type": "code",
   "execution_count": 27,
   "id": "bae628ea",
   "metadata": {},
   "outputs": [],
   "source": [
    "followup_array = [None] * 5\n",
    "for i in range(5):\n",
    "    patient_information = cs['TEXT'][i]\n",
    "    followup_pattern = re.compile(r'Followup Instructions:(.*)', re.DOTALL)\n",
    "    followup_match = followup_pattern.search(patient_information)\n",
    "    followup = followup_match.group(1).strip() if followup_match else None\n",
    "    followup_array[i] = followup\n"
   ]
  },
  {
   "cell_type": "code",
   "execution_count": 35,
   "id": "6311c238",
   "metadata": {},
   "outputs": [
    {
     "name": "stdout",
     "output_type": "stream",
     "text": [
      "Patient is F, unemployed, with no history of tobacco, alcohol, or illicit drug use. Diagnosed with Type 1 diabetes mellitus w/ neuropathy, HTN, gastroparesis, CKD and retinopathy.\n",
      "\n",
      "\n",
      "The patient was admitted to the hospital with type I DM, c/b neuropathy, nephropathy, and retinopathy. She was treated with insulin drip which was transitioned to subq when she tolerated POs. Her electrolytes were repleted and she received aggressive volume resuscitation.The patient was admitted to the hospital with SBP in 190s. No source for DKA was found, beleived to be gastroparesis. Nausea managed with ativan, compazine, and promethazine.You were admitted to the hospital with DKA, hypertension, andblood in your vomit. You were initially treated in the ICU with an insulin drip, and your blood sugars improved. You should follow-up with your primary care doctor to discuss whether you should undergo further evaluation such as an upper-endoscopy.\n",
      "\n",
      "\n",
      "Please call Dr.[**Last Name (STitle) 805**]' office to schedule a follow-up\n",
      "appointment within 7-10 days of discharge. Her office number is\n",
      "[**Telephone/Fax (1) 85219**].\n",
      "\n",
      "You should also continue to follow-up with your [**Last Name (un) **] doctors\n",
      "as needed.\n",
      "\n",
      "\n",
      "\n",
      "\n",
      "The patient is a 59M w HepC cirrhosis c/b grade I/II esophagealvarices and portal gastropathy. He is drinking alcohol, usually one session per week. He smokes about 20 cigarettes per day. He has been told to completely abstain from alcohol.\n",
      "\n",
      "\n",
      "The left atrium is dilated. Left ventricular wall thicknessesand. ventricular cavity size are normal. The mitral valve leaflets are mildlythickened. Left atrium has dilated dilated atrium. Left systolic. chamber and right ventricular chamber have normal. function.The patient has a 59M w HCV cirrhosis w grade II esophageal varices. He was admitted to MICU for hypotension. He is now being treated with tylenol for pain.You were admitted for bleeding from an ulcer in your stomach. The ulcer is at least partially caused by naproxen. You should stop taking naproxens and take only tylenol for pain.\n",
      "\n",
      "\n",
      "Provider: [**Name10 (NameIs) **] [**Apartment Address(1) **] (ST-3) GI ROOMS Date/Time:[**2150-4-30**] 1:30\n",
      "Provider: [**First Name11 (Name Pattern1) **] [**Last Name (NamePattern1) 7290**], MD Phone:[**Telephone/Fax (1) 463**] Date/Time:[**2150-4-30**]\n",
      "1:30\n",
      "Provider: [**Name10 (NameIs) **] [**Last Name (NamePattern4) 2424**], MD Phone:[**Telephone/Fax (1) 2422**]\n",
      "Date/Time:[**2150-5-7**] 11:00\n",
      "\n",
      "\n",
      "\n",
      "Completed by:[**2150-4-24**]\n",
      "\n",
      "\n",
      "\n",
      "\n"
     ]
    }
   ],
   "source": [
    "for i in range(2):\n",
    "    a = f_hpi[i]\n",
    "    print(a[0]['summary_text'])\n",
    "    print('\\n')\n",
    "    print(f_narrative[i])\n",
    "    print('\\n')\n",
    "    print(followup_array[i])\n",
    "    print('\\n')\n",
    "    print('\\n')"
   ]
  },
  {
   "cell_type": "code",
   "execution_count": null,
   "id": "e711593a",
   "metadata": {},
   "outputs": [],
   "source": []
  }
 ],
 "metadata": {
  "kernelspec": {
   "display_name": "Python 3 (ipykernel)",
   "language": "python",
   "name": "python3"
  },
  "language_info": {
   "codemirror_mode": {
    "name": "ipython",
    "version": 3
   },
   "file_extension": ".py",
   "mimetype": "text/x-python",
   "name": "python",
   "nbconvert_exporter": "python",
   "pygments_lexer": "ipython3",
   "version": "3.9.12"
  }
 },
 "nbformat": 4,
 "nbformat_minor": 5
}
